{
 "cells": [
  {
   "cell_type": "code",
   "execution_count": 1,
   "metadata": {},
   "outputs": [],
   "source": [
    "import numpy as np\n",
    "import pandas as pd\n",
    "import matplotlib.pyplot as plt\n",
    "from collections import defaultdict\n",
    "%matplotlib inline"
   ]
  },
  {
   "cell_type": "markdown",
   "metadata": {},
   "source": [
    "# Business Understanding\n",
    "Questions: Related to business or real-world applications of how the data could be used to solve\n",
    "\n",
    "\n",
    "Q1 : What are the most popular programming languages among developers?\n",
    "\n",
    "Q2 : How do different programming languages stands in terms of job satisfaction?\n",
    "\n",
    "Q3 : Base programming language to start professional career?\n",
    "\n",
    "Data Understanding (Common)\n",
    "\n",
    "We will use the data of StackOverflow's Developer Survey for year 2017. \n",
    "#download dataset URL : https://www.kaggle.com/stackoverflow/so-survey-2017"
   ]
  },
  {
   "cell_type": "code",
   "execution_count": 2,
   "metadata": {},
   "outputs": [],
   "source": [
    "data = {}\n",
    "data['2017'] = pd.read_csv('./data/survey_results_public.csv')\n",
    "#TODO planning to explore 2018/2019 data also"
   ]
  },
  {
   "cell_type": "code",
   "execution_count": 3,
   "metadata": {},
   "outputs": [
    {
     "name": "stdout",
     "output_type": "stream",
     "text": [
      "data shape:(51392, 154)\n",
      "\n",
      "columns with no missing values:\n",
      "{'University', 'EmploymentStatus', 'Professional', 'Country', 'Respondent', 'ProgramHobby', 'FormalEducation'}\n",
      "\n",
      "columns with more than 50% missing values:\n",
      "{'AssessJobProjects', 'AssessJobDiversity', 'ExCoderActive', 'ExCoderBalance', 'ResumePrompted', 'CousinEducation', 'ExCoderBelonged', 'AssessJobTech', 'AssessJobCommute', 'WantWorkDatabase', 'EducationImportant', 'AssessJobCompensation', 'AssessJobOffice', 'Overpaid', 'InfluenceTechStack', 'AssessJobExp', 'WantWorkFramework', 'AssessJobRemote', 'AssessJobRole', 'ExCoderReturn', 'NonDeveloperType', 'TimeAfterBootcamp', 'MetricAssess', 'ExCoder10Years', 'InfluenceCommunication', 'AssessJobFinances', 'InfluenceRecruitment', 'WebDeveloperType', 'LearnedHiring', 'ExCoderNotForMe', 'ExCoderWillNotCode', 'AssessJobIndustry', 'InfluenceWorkstation', 'InfluenceDatabase', 'InfluenceDeptTech', 'InfluenceConsultants', 'YearsCodedJobPast', 'AssessJobProfDevel', 'InfluenceCloud', 'InfluenceServers', 'MobileDeveloperType', 'AssessJobLeaders', 'JobProfile', 'Salary', 'HoursPerWeek', 'HaveWorkedFramework', 'InfluenceVizTools', 'ExCoderSkills', 'AssessJobDept', 'InfluenceHardware', 'ExpectedSalary', 'AssessJobProduct', 'Currency'}\n",
      "\n",
      "columns with more than 75% missing values:\n",
      "{'MobileDeveloperType', 'ExCoderActive', 'ExCoderBalance', 'ExCoderNotForMe', 'ExCoderReturn', 'NonDeveloperType', 'ExCoderBelonged', 'ExCoderSkills', 'ExCoderWillNotCode', 'ExCoder10Years', 'TimeAfterBootcamp', 'ExpectedSalary', 'YearsCodedJobPast', 'WebDeveloperType'}\n",
      "\n"
     ]
    }
   ],
   "source": [
    "# Explore Missing value in data\n",
    "for year in ['2017']:\n",
    "    df = data[year]       \n",
    "    print(f'data shape:{df.shape}\\n')\n",
    "    no_nulls_cols = set(df.columns[df.isnull().mean() == 0])\n",
    "    print(f'columns with no missing values:\\n{no_nulls_cols}\\n')\n",
    "    most_missing_cols = set(df.columns[df.isnull().mean() > .5])\n",
    "    print(f'columns with more than 50% missing values:\\n{most_missing_cols}\\n')\n",
    "    most_missing_cols = set(df.columns[df.isnull().mean() > .75])\n",
    "    print(f'columns with more than 75% missing values:\\n{most_missing_cols}\\n')"
   ]
  },
  {
   "cell_type": "code",
   "execution_count": 4,
   "metadata": {},
   "outputs": [
    {
     "data": {
      "text/html": [
       "<div>\n",
       "<style scoped>\n",
       "    .dataframe tbody tr th:only-of-type {\n",
       "        vertical-align: middle;\n",
       "    }\n",
       "\n",
       "    .dataframe tbody tr th {\n",
       "        vertical-align: top;\n",
       "    }\n",
       "\n",
       "    .dataframe thead th {\n",
       "        text-align: right;\n",
       "    }\n",
       "</style>\n",
       "<table border=\"1\" class=\"dataframe\">\n",
       "  <thead>\n",
       "    <tr style=\"text-align: right;\">\n",
       "      <th></th>\n",
       "      <th>Respondent</th>\n",
       "      <th>Professional</th>\n",
       "      <th>ProgramHobby</th>\n",
       "      <th>Country</th>\n",
       "      <th>University</th>\n",
       "      <th>EmploymentStatus</th>\n",
       "      <th>FormalEducation</th>\n",
       "      <th>MajorUndergrad</th>\n",
       "      <th>HomeRemote</th>\n",
       "      <th>CompanySize</th>\n",
       "      <th>...</th>\n",
       "      <th>StackOverflowMakeMoney</th>\n",
       "      <th>Gender</th>\n",
       "      <th>HighestEducationParents</th>\n",
       "      <th>Race</th>\n",
       "      <th>SurveyLong</th>\n",
       "      <th>QuestionsInteresting</th>\n",
       "      <th>QuestionsConfusing</th>\n",
       "      <th>InterestedAnswers</th>\n",
       "      <th>Salary</th>\n",
       "      <th>ExpectedSalary</th>\n",
       "    </tr>\n",
       "  </thead>\n",
       "  <tbody>\n",
       "    <tr>\n",
       "      <th>0</th>\n",
       "      <td>1</td>\n",
       "      <td>Student</td>\n",
       "      <td>Yes, both</td>\n",
       "      <td>United States</td>\n",
       "      <td>No</td>\n",
       "      <td>Not employed, and not looking for work</td>\n",
       "      <td>Secondary school</td>\n",
       "      <td>NaN</td>\n",
       "      <td>NaN</td>\n",
       "      <td>NaN</td>\n",
       "      <td>...</td>\n",
       "      <td>Strongly disagree</td>\n",
       "      <td>Male</td>\n",
       "      <td>High school</td>\n",
       "      <td>White or of European descent</td>\n",
       "      <td>Strongly disagree</td>\n",
       "      <td>Strongly agree</td>\n",
       "      <td>Disagree</td>\n",
       "      <td>Strongly agree</td>\n",
       "      <td>NaN</td>\n",
       "      <td>NaN</td>\n",
       "    </tr>\n",
       "    <tr>\n",
       "      <th>1</th>\n",
       "      <td>2</td>\n",
       "      <td>Student</td>\n",
       "      <td>Yes, both</td>\n",
       "      <td>United Kingdom</td>\n",
       "      <td>Yes, full-time</td>\n",
       "      <td>Employed part-time</td>\n",
       "      <td>Some college/university study without earning ...</td>\n",
       "      <td>Computer science or software engineering</td>\n",
       "      <td>More than half, but not all, the time</td>\n",
       "      <td>20 to 99 employees</td>\n",
       "      <td>...</td>\n",
       "      <td>Strongly disagree</td>\n",
       "      <td>Male</td>\n",
       "      <td>A master's degree</td>\n",
       "      <td>White or of European descent</td>\n",
       "      <td>Somewhat agree</td>\n",
       "      <td>Somewhat agree</td>\n",
       "      <td>Disagree</td>\n",
       "      <td>Strongly agree</td>\n",
       "      <td>NaN</td>\n",
       "      <td>37500.0</td>\n",
       "    </tr>\n",
       "    <tr>\n",
       "      <th>2</th>\n",
       "      <td>3</td>\n",
       "      <td>Professional developer</td>\n",
       "      <td>Yes, both</td>\n",
       "      <td>United Kingdom</td>\n",
       "      <td>No</td>\n",
       "      <td>Employed full-time</td>\n",
       "      <td>Bachelor's degree</td>\n",
       "      <td>Computer science or software engineering</td>\n",
       "      <td>Less than half the time, but at least one day ...</td>\n",
       "      <td>10,000 or more employees</td>\n",
       "      <td>...</td>\n",
       "      <td>Disagree</td>\n",
       "      <td>Male</td>\n",
       "      <td>A professional degree</td>\n",
       "      <td>White or of European descent</td>\n",
       "      <td>Somewhat agree</td>\n",
       "      <td>Agree</td>\n",
       "      <td>Disagree</td>\n",
       "      <td>Agree</td>\n",
       "      <td>113750.0</td>\n",
       "      <td>NaN</td>\n",
       "    </tr>\n",
       "    <tr>\n",
       "      <th>3</th>\n",
       "      <td>4</td>\n",
       "      <td>Professional non-developer who sometimes write...</td>\n",
       "      <td>Yes, both</td>\n",
       "      <td>United States</td>\n",
       "      <td>No</td>\n",
       "      <td>Employed full-time</td>\n",
       "      <td>Doctoral degree</td>\n",
       "      <td>A non-computer-focused engineering discipline</td>\n",
       "      <td>Less than half the time, but at least one day ...</td>\n",
       "      <td>10,000 or more employees</td>\n",
       "      <td>...</td>\n",
       "      <td>Disagree</td>\n",
       "      <td>Male</td>\n",
       "      <td>A doctoral degree</td>\n",
       "      <td>White or of European descent</td>\n",
       "      <td>Agree</td>\n",
       "      <td>Agree</td>\n",
       "      <td>Somewhat agree</td>\n",
       "      <td>Strongly agree</td>\n",
       "      <td>NaN</td>\n",
       "      <td>NaN</td>\n",
       "    </tr>\n",
       "    <tr>\n",
       "      <th>4</th>\n",
       "      <td>5</td>\n",
       "      <td>Professional developer</td>\n",
       "      <td>Yes, I program as a hobby</td>\n",
       "      <td>Switzerland</td>\n",
       "      <td>No</td>\n",
       "      <td>Employed full-time</td>\n",
       "      <td>Master's degree</td>\n",
       "      <td>Computer science or software engineering</td>\n",
       "      <td>Never</td>\n",
       "      <td>10 to 19 employees</td>\n",
       "      <td>...</td>\n",
       "      <td>NaN</td>\n",
       "      <td>NaN</td>\n",
       "      <td>NaN</td>\n",
       "      <td>NaN</td>\n",
       "      <td>NaN</td>\n",
       "      <td>NaN</td>\n",
       "      <td>NaN</td>\n",
       "      <td>NaN</td>\n",
       "      <td>NaN</td>\n",
       "      <td>NaN</td>\n",
       "    </tr>\n",
       "  </tbody>\n",
       "</table>\n",
       "<p>5 rows × 154 columns</p>\n",
       "</div>"
      ],
      "text/plain": [
       "   Respondent                                       Professional  \\\n",
       "0           1                                            Student   \n",
       "1           2                                            Student   \n",
       "2           3                             Professional developer   \n",
       "3           4  Professional non-developer who sometimes write...   \n",
       "4           5                             Professional developer   \n",
       "\n",
       "                ProgramHobby         Country      University  \\\n",
       "0                  Yes, both   United States              No   \n",
       "1                  Yes, both  United Kingdom  Yes, full-time   \n",
       "2                  Yes, both  United Kingdom              No   \n",
       "3                  Yes, both   United States              No   \n",
       "4  Yes, I program as a hobby     Switzerland              No   \n",
       "\n",
       "                         EmploymentStatus  \\\n",
       "0  Not employed, and not looking for work   \n",
       "1                      Employed part-time   \n",
       "2                      Employed full-time   \n",
       "3                      Employed full-time   \n",
       "4                      Employed full-time   \n",
       "\n",
       "                                     FormalEducation  \\\n",
       "0                                   Secondary school   \n",
       "1  Some college/university study without earning ...   \n",
       "2                                  Bachelor's degree   \n",
       "3                                    Doctoral degree   \n",
       "4                                    Master's degree   \n",
       "\n",
       "                                  MajorUndergrad  \\\n",
       "0                                            NaN   \n",
       "1       Computer science or software engineering   \n",
       "2       Computer science or software engineering   \n",
       "3  A non-computer-focused engineering discipline   \n",
       "4       Computer science or software engineering   \n",
       "\n",
       "                                          HomeRemote  \\\n",
       "0                                                NaN   \n",
       "1              More than half, but not all, the time   \n",
       "2  Less than half the time, but at least one day ...   \n",
       "3  Less than half the time, but at least one day ...   \n",
       "4                                              Never   \n",
       "\n",
       "                CompanySize  ... StackOverflowMakeMoney Gender  \\\n",
       "0                       NaN  ...      Strongly disagree   Male   \n",
       "1        20 to 99 employees  ...      Strongly disagree   Male   \n",
       "2  10,000 or more employees  ...               Disagree   Male   \n",
       "3  10,000 or more employees  ...               Disagree   Male   \n",
       "4        10 to 19 employees  ...                    NaN    NaN   \n",
       "\n",
       "  HighestEducationParents                          Race         SurveyLong  \\\n",
       "0             High school  White or of European descent  Strongly disagree   \n",
       "1       A master's degree  White or of European descent     Somewhat agree   \n",
       "2   A professional degree  White or of European descent     Somewhat agree   \n",
       "3       A doctoral degree  White or of European descent              Agree   \n",
       "4                     NaN                           NaN                NaN   \n",
       "\n",
       "  QuestionsInteresting QuestionsConfusing InterestedAnswers    Salary  \\\n",
       "0       Strongly agree           Disagree    Strongly agree       NaN   \n",
       "1       Somewhat agree           Disagree    Strongly agree       NaN   \n",
       "2                Agree           Disagree             Agree  113750.0   \n",
       "3                Agree     Somewhat agree    Strongly agree       NaN   \n",
       "4                  NaN                NaN               NaN       NaN   \n",
       "\n",
       "   ExpectedSalary  \n",
       "0             NaN  \n",
       "1         37500.0  \n",
       "2             NaN  \n",
       "3             NaN  \n",
       "4             NaN  \n",
       "\n",
       "[5 rows x 154 columns]"
      ]
     },
     "execution_count": 4,
     "metadata": {},
     "output_type": "execute_result"
    }
   ],
   "source": [
    "# check top 5 data\n",
    "data['2017'].head()"
   ]
  },
  {
   "cell_type": "markdown",
   "metadata": {},
   "source": [
    "# Solutions\n",
    "\n"
   ]
  },
  {
   "cell_type": "markdown",
   "metadata": {},
   "source": [
    "# What are the most popular programming languages among developers?\n",
    "Data Understanding"
   ]
  },
  {
   "cell_type": "code",
   "execution_count": 5,
   "metadata": {},
   "outputs": [
    {
     "data": {
      "text/plain": [
       "{'2017': 'HaveWorkedLanguage'}"
      ]
     },
     "execution_count": 5,
     "metadata": {},
     "output_type": "execute_result"
    }
   ],
   "source": [
    "# columns indicating what languages are used by individual developers\n",
    "prog_langs_col_dict = {\n",
    "    '2017': 'HaveWorkedLanguage'    \n",
    "}\n",
    "prog_langs_col_dict"
   ]
  },
  {
   "cell_type": "code",
   "execution_count": 6,
   "metadata": {},
   "outputs": [
    {
     "name": "stdout",
     "output_type": "stream",
     "text": [
      "2017 0.2873404420921544\n"
     ]
    }
   ],
   "source": [
    "# check the proportion of missing values in these columns\n",
    "for year, col in prog_langs_col_dict.items():\n",
    "    print(year, data[year][col].isnull().mean())"
   ]
  },
  {
   "cell_type": "markdown",
   "metadata": {},
   "source": [
    "# Prepare Data"
   ]
  },
  {
   "cell_type": "code",
   "execution_count": 7,
   "metadata": {},
   "outputs": [],
   "source": [
    "def extract_languages(langs_str, delimiter=';'):\n",
    "    \"\"\"\n",
    "    INPUT:\n",
    "        langs_str - the string you want to separate \n",
    "    OUTPUT:\n",
    "        a list with separated values\n",
    "    \"\"\"\n",
    "    return [val.strip() for val in langs_str.split(delimiter)]"
   ]
  },
  {
   "cell_type": "code",
   "execution_count": 8,
   "metadata": {},
   "outputs": [],
   "source": [
    "def all_vals_set(df, col):\n",
    "    \"\"\"\n",
    "    INPUT:\n",
    "        df - the pandas dataframe you want to search\n",
    "        colmn - the column you want to collect unique values \n",
    "    OUTPUT:\n",
    "        values_set - a set of unique values in df[col]\n",
    "    \"\"\"\n",
    "    values_set = set()\n",
    "    mixed_lst = df[col].value_counts().index.tolist()\n",
    "    for mixed_val in mixed_lst:\n",
    "        mixed_val_set = set(extract_languages(mixed_val))\n",
    "        values_set = values_set | mixed_val_set\n",
    "    return values_set"
   ]
  },
  {
   "cell_type": "code",
   "execution_count": 9,
   "metadata": {},
   "outputs": [
    {
     "data": {
      "text/plain": [
       "{'2017': {'Assembly',\n",
       "  'C',\n",
       "  'C#',\n",
       "  'C++',\n",
       "  'Clojure',\n",
       "  'CoffeeScript',\n",
       "  'Common Lisp',\n",
       "  'Dart',\n",
       "  'Elixir',\n",
       "  'Erlang',\n",
       "  'F#',\n",
       "  'Go',\n",
       "  'Groovy',\n",
       "  'Hack',\n",
       "  'Haskell',\n",
       "  'Java',\n",
       "  'JavaScript',\n",
       "  'Julia',\n",
       "  'Lua',\n",
       "  'Matlab',\n",
       "  'Objective-C',\n",
       "  'PHP',\n",
       "  'Perl',\n",
       "  'Python',\n",
       "  'R',\n",
       "  'Ruby',\n",
       "  'Rust',\n",
       "  'SQL',\n",
       "  'Scala',\n",
       "  'Smalltalk',\n",
       "  'Swift',\n",
       "  'TypeScript',\n",
       "  'VB.NET',\n",
       "  'VBA',\n",
       "  'Visual Basic 6'}}"
      ]
     },
     "execution_count": 9,
     "metadata": {},
     "output_type": "execute_result"
    }
   ],
   "source": [
    "# Rertieve programming languages in particular year\n",
    "all_langs = {}\n",
    "\n",
    "for year, col in prog_langs_col_dict.items():\n",
    "    all_langs[year] = all_vals_set(data[year], col)\n",
    "\n",
    "all_langs"
   ]
  },
  {
   "cell_type": "code",
   "execution_count": 10,
   "metadata": {},
   "outputs": [
    {
     "data": {
      "text/plain": [
       "{'Assembly',\n",
       " 'C',\n",
       " 'C#',\n",
       " 'C++',\n",
       " 'Clojure',\n",
       " 'CoffeeScript',\n",
       " 'Common Lisp',\n",
       " 'Dart',\n",
       " 'Elixir',\n",
       " 'Erlang',\n",
       " 'F#',\n",
       " 'Go',\n",
       " 'Groovy',\n",
       " 'Hack',\n",
       " 'Haskell',\n",
       " 'Java',\n",
       " 'JavaScript',\n",
       " 'Julia',\n",
       " 'Lua',\n",
       " 'Matlab',\n",
       " 'Objective-C',\n",
       " 'PHP',\n",
       " 'Perl',\n",
       " 'Python',\n",
       " 'R',\n",
       " 'Ruby',\n",
       " 'Rust',\n",
       " 'SQL',\n",
       " 'Scala',\n",
       " 'Smalltalk',\n",
       " 'Swift',\n",
       " 'TypeScript',\n",
       " 'VB.NET',\n",
       " 'VBA',\n",
       " 'Visual Basic 6'}"
      ]
     },
     "execution_count": 10,
     "metadata": {},
     "output_type": "execute_result"
    }
   ],
   "source": [
    "# Get common programming languages in data\n",
    "common_langs = None\n",
    "\n",
    "for year in prog_langs_col_dict.keys():\n",
    "    if common_langs is None:\n",
    "        common_langs = all_langs[year]\n",
    "        continue\n",
    "    common_langs = common_langs & possible_langs[year]\n",
    "\n",
    "common_langs"
   ]
  },
  {
   "cell_type": "code",
   "execution_count": 11,
   "metadata": {},
   "outputs": [],
   "source": [
    "def total_count_lang(df, look_for):\n",
    "    \"\"\"\n",
    "    INPUT:\n",
    "        df - the pandas dataframe you want to search\n",
    "        look_for - a list of strings you want to search for in each row of df['language']\n",
    "    OUTPUT:\n",
    "        new_df - a dataframe of each look_for with the count of how often it shows up\n",
    "    \"\"\"\n",
    "    new_df = defaultdict(int)\n",
    "    for lang in look_for:\n",
    "        for idx in range(df.shape[0]):\n",
    "            if lang in extract_languages(df['language'][idx]):\n",
    "                new_df[lang] += int(df['count'][idx])\n",
    "    new_df = pd.DataFrame(pd.Series(new_df)).reset_index()\n",
    "    new_df.columns = ['language', 'count']\n",
    "    new_df.sort_values('count', ascending=False, inplace=True)\n",
    "    return new_df"
   ]
  },
  {
   "cell_type": "code",
   "execution_count": 12,
   "metadata": {},
   "outputs": [],
   "source": [
    "def clean_lang(df, col, possible_vals):\n",
    "    \"\"\"\n",
    "    INPUT: \n",
    "        df - a dataframe holding the worked language column\n",
    "        col - the column you want to clean values\n",
    "        possible_vals - a list of strings you want to search for in each row of df[col]\n",
    "    OUTPUT:\n",
    "        new_df - a dataframe with the proportions of how many individuals\n",
    "    \"\"\"\n",
    "    new_df = df[col].value_counts().reset_index()\n",
    "    new_df.rename(columns={'index': 'language', col: 'count'}, inplace=True)\n",
    "    new_df = total_count_lang(new_df, possible_vals)\n",
    "    new_df['count'] = new_df['count']/len(df.dropna(subset=[col], how='any'))\n",
    "    new_df['rank'] = np.arange(1, len(new_df)+1)\n",
    "    new_df.set_index('language', inplace=True)\n",
    "    return new_df"
   ]
  },
  {
   "cell_type": "code",
   "execution_count": 13,
   "metadata": {},
   "outputs": [],
   "source": [
    "# clean up language columns\n",
    "langs = {}\n",
    "for year, col in prog_langs_col_dict.items():\n",
    "    langs[year] = clean_lang(data[year], col, all_langs[year])"
   ]
  },
  {
   "cell_type": "markdown",
   "metadata": {},
   "source": [
    "# Visualize the Results"
   ]
  },
  {
   "cell_type": "code",
   "execution_count": 14,
   "metadata": {},
   "outputs": [],
   "source": [
    "def plot_lang(df, title):\n",
    "    \"\"\"\n",
    "    INPUT:\n",
    "        df - a dataframe holding the worked language column\n",
    "        title - the title string of your plot         \n",
    "    OUTPUT:\n",
    "        None\n",
    "    \"\"\"\n",
    "    df[['count']].plot(figsize=(10,6), kind='bar', legend=None)\n",
    "    plt.tick_params(left=False, bottom=False)\n",
    "    plt.grid(True, axis='y')\n",
    "    plt.title(title)\n",
    "    plt.box(False)\n",
    "    plt.show();"
   ]
  },
  {
   "cell_type": "code",
   "execution_count": 15,
   "metadata": {},
   "outputs": [
    {
     "ename": "NameError",
     "evalue": "name 'worked_langs_col_dict' is not defined",
     "output_type": "error",
     "traceback": [
      "\u001b[1;31m---------------------------------------------------------------------------\u001b[0m",
      "\u001b[1;31mNameError\u001b[0m                                 Traceback (most recent call last)",
      "\u001b[1;32m<ipython-input-15-08e98a5c2aaa>\u001b[0m in \u001b[0;36m<module>\u001b[1;34m\u001b[0m\n\u001b[0;32m      1\u001b[0m \u001b[1;31m# plot the proportion of languages in each year\u001b[0m\u001b[1;33m\u001b[0m\u001b[1;33m\u001b[0m\u001b[1;33m\u001b[0m\u001b[0m\n\u001b[1;32m----> 2\u001b[1;33m \u001b[1;32mfor\u001b[0m \u001b[0myear\u001b[0m\u001b[1;33m,\u001b[0m \u001b[0mcol\u001b[0m \u001b[1;32min\u001b[0m \u001b[0mworked_langs_col_dict\u001b[0m\u001b[1;33m.\u001b[0m\u001b[0mitems\u001b[0m\u001b[1;33m(\u001b[0m\u001b[1;33m)\u001b[0m\u001b[1;33m:\u001b[0m\u001b[1;33m\u001b[0m\u001b[1;33m\u001b[0m\u001b[0m\n\u001b[0m\u001b[0;32m      3\u001b[0m     \u001b[0mplot_lang\u001b[0m\u001b[1;33m(\u001b[0m\u001b[0mlangs\u001b[0m\u001b[1;33m[\u001b[0m\u001b[0myear\u001b[0m\u001b[1;33m]\u001b[0m\u001b[1;33m,\u001b[0m \u001b[1;34mf'Programming Languages {year}'\u001b[0m\u001b[1;33m)\u001b[0m\u001b[1;33m\u001b[0m\u001b[1;33m\u001b[0m\u001b[0m\n",
      "\u001b[1;31mNameError\u001b[0m: name 'worked_langs_col_dict' is not defined"
     ]
    }
   ],
   "source": [
    "# plot the proportion of languages in each year\n",
    "for year, col in worked_langs_col_dict.items():\n",
    "    plot_lang(langs[year], f'Programming Languages {year}')"
   ]
  },
  {
   "cell_type": "code",
   "execution_count": null,
   "metadata": {},
   "outputs": [],
   "source": [
    "# get rankings of common languages in 2017 year\n",
    "langs_ranks = pd.DataFrame(index=common_langs)\n",
    "for year in worked_langs_col_dict.keys():\n",
    "    langs_ranks = langs_ranks.merge(langs[year], left_index=True, right_index=True, how='inner').drop('count', axis=1)\n",
    "langs_ranks.columns = worked_langs_col_dict.keys()\n",
    "langs_ranks.transpose()"
   ]
  },
  {
   "cell_type": "code",
   "execution_count": null,
   "metadata": {},
   "outputs": [],
   "source": [
    "# plot rankings of different languages in 2017 year\n",
    "def plot_rankings(df, max_rank, title):\n",
    "    \"\"\"\n",
    "    INPUT:\n",
    "        df - a dataframe you want to plot\n",
    "        max_rank - the maximum value of rank\n",
    "        title - the title string of your plot         \n",
    "    OUTPUT:\n",
    "        None\n",
    "    \"\"\"\n",
    "    df.sort_values(by='2017', ascending=True).plot(\n",
    "        figsize=(10, 10),\n",
    "        kind='bar', \n",
    "        xlim=(max_rank, 0),\n",
    "        xticks=range(1,max_rank),\n",
    "    )\n",
    "    plt.tick_params(labelright=True, left=False, right=False, top=False, bottom=False)\n",
    "    plt.legend(bbox_to_anchor=(1, 1))\n",
    "    plt.title(title)\n",
    "    plt.box(False)\n",
    "    plt.show();"
   ]
  },
  {
   "cell_type": "code",
   "execution_count": null,
   "metadata": {},
   "outputs": [],
   "source": [
    "plot_rankings(langs_ranks, 40, 'Programming Language Rankings 2017')"
   ]
  },
  {
   "cell_type": "markdown",
   "metadata": {},
   "source": [
    "# Solution 2 : How do different programming languages stands in terms of job satisfaction?\n"
   ]
  },
  {
   "cell_type": "code",
   "execution_count": null,
   "metadata": {},
   "outputs": [],
   "source": [
    "# columns indicating job satisfaction\n",
    "job_sat_col_dict = {\n",
    "    '2017': 'JobSatisfaction',    \n",
    "}"
   ]
  },
  {
   "cell_type": "code",
   "execution_count": null,
   "metadata": {},
   "outputs": [],
   "source": [
    "# check the proportion of missing values in these columns\n",
    "for year, col in job_sat_col_dict.items():\n",
    "    print(year, data[year][col].isnull().mean())"
   ]
  },
  {
   "cell_type": "code",
   "execution_count": null,
   "metadata": {},
   "outputs": [],
   "source": [
    "def plot_value_counts(col, df, title):\n",
    "    \"\"\"\n",
    "    INPUT: \n",
    "        col - the column you want to count values\n",
    "        df - the dataframe holding the column\n",
    "        title - the title of the plot\n",
    "    OUTPUT:\n",
    "        None\n",
    "    \"\"\"\n",
    "    feat_vals = df[col].value_counts()\n",
    "    (feat_vals/df.shape[0]).sort_index().plot(kind=\"bar\");\n",
    "    plt.title(title)\n",
    "    plt.show();"
   ]
  },
  {
   "cell_type": "code",
   "execution_count": null,
   "metadata": {},
   "outputs": [],
   "source": [
    "# check the proportion of each value in these columns\n",
    "for year, col in job_sat_col_dict.items():\n",
    "    plot_value_counts(col, data[year], f'Job Satisfaction {year}')"
   ]
  },
  {
   "cell_type": "markdown",
   "metadata": {},
   "source": [
    "# Prepare Data\n"
   ]
  },
  {
   "cell_type": "code",
   "execution_count": null,
   "metadata": {},
   "outputs": [],
   "source": [
    "# Because each year survey has a different job satisfaction level, we have to re-encode those fine scales into the same rough scale before comparison\n",
    "# column names for re-encoded columns\n",
    "job_sat_enc_col_dict = {\n",
    "    '2017': 'JobSatisfaction_encoded'\n",
    "}"
   ]
  },
  {
   "cell_type": "code",
   "execution_count": null,
   "metadata": {},
   "outputs": [],
   "source": [
    "# create a dict for re-encoding\n",
    "job_sat_enc_dict = {\n",
    "    '2017': {\n",
    "        0: -2,\n",
    "        1: -1.6,\n",
    "        2: -1.2,\n",
    "        3: -0.8,\n",
    "        4: -0.4,\n",
    "        5: 0,\n",
    "        6: 0.4,\n",
    "        7: 0.8,\n",
    "        8: 1.2,\n",
    "        9: 1.6,\n",
    "        10: 2,\n",
    "    }\n",
    "}"
   ]
  },
  {
   "cell_type": "code",
   "execution_count": null,
   "metadata": {},
   "outputs": [],
   "source": [
    "def total_count_job_sat(df, look_for):\n",
    "    \"\"\"\n",
    "    INPUT:\n",
    "        df - the pandas dataframe you want to search\n",
    "        look_for - a list of strings you want to search for in each row of df['language']\n",
    "    OUTPUT:\n",
    "        new_df - a dataframe of each look_for with the count and the mean\n",
    "    \"\"\"\n",
    "    s = [defaultdict(int), defaultdict(int)]\n",
    "    for lang in look_for:\n",
    "        for idx in range(df.shape[0]):\n",
    "            if lang in extract_languages(df['language'][idx]):\n",
    "                s[0][lang] += int(df['count'][idx])\n",
    "                s[1][lang] += int(df['job_sat_sum'][idx])\n",
    "\n",
    "    new_df = pd.concat([pd.Series(s[0]), pd.Series(s[1])], axis=1)\n",
    "    new_df.reset_index(inplace=True)\n",
    "    new_df.columns = ['language', 'count', 'job_sat_sum']\n",
    "    \n",
    "    new_df['job_sat_mean'] = new_df['job_sat_sum'] / new_df['count']\n",
    "    new_df.sort_values('job_sat_mean', ascending=False, inplace=True)\n",
    "    new_df.set_index('language', inplace=True)\n",
    "    \n",
    "    return new_df    "
   ]
  },
  {
   "cell_type": "code",
   "execution_count": null,
   "metadata": {},
   "outputs": [],
   "source": [
    "def clean_job_sat(df, lang_col, possible_langs, job_col, job_enc_col, job_enc_dict):\n",
    "    \"\"\"\n",
    "    INPUT:\n",
    "        df - the pandas dataframe you want to search\n",
    "        lang_col - the column name with languages strings\n",
    "        possible_langs - a list of languages you want to search for in each row of df[lang_col]\n",
    "        job_col - the column name with job satisfaction values\n",
    "        job_enc_col - the re-encoded column name for job_col\n",
    "        job_enc_dict - the mapping dictionary for re-encoding\n",
    "    OUTPUT:\n",
    "        new_df - a dataframe for each possible_langs with the count and the mean of job satisfaction\n",
    "    \"\"\"\n",
    "    # re-encode Job Satisfaction column values\n",
    "    df[job_enc_col] = df[job_col].map(job_enc_dict, na_action='ignore')\n",
    "\n",
    "    # group by languages\n",
    "    new_df = pd.DataFrame(df[lang_col].value_counts())\n",
    "    new_df['job_sat_sum'] = df.groupby([lang_col]).sum()[job_enc_col]\n",
    "    new_df = new_df.reset_index()\n",
    "    new_df.rename(columns={'index': 'language', lang_col: 'count'}, inplace=True)\n",
    "    \n",
    "    # count languages and calculate the mean of job satisfaction of each language\n",
    "    new_df = total_count_job_sat(new_df, possible_langs)\n",
    "    new_df['count'] = new_df['count']/len(df.dropna(subset=[lang_col], how='any'))\n",
    "    \n",
    "    return new_df"
   ]
  },
  {
   "cell_type": "code",
   "execution_count": null,
   "metadata": {},
   "outputs": [],
   "source": [
    "# clean up job satisfaction columns\n",
    "job_sat = {}\n",
    "        \n",
    "for year in job_sat_col_dict.keys():\n",
    "    \n",
    "    lang_col = worked_langs_col_dict[year]\n",
    "    possible_langs_ = all_langs[year]\n",
    "    \n",
    "    job_col = job_sat_col_dict[year]\n",
    "    job_enc_col = job_sat_enc_col_dict[year]\n",
    "    job_enc_dict = job_sat_enc_dict[year]\n",
    "    \n",
    "    job_sat[year] = clean_job_sat(data[year], lang_col, possible_langs_, job_col, job_enc_col, job_enc_dict)"
   ]
  },
  {
   "cell_type": "markdown",
   "metadata": {},
   "source": [
    "# Visualize the Results"
   ]
  },
  {
   "cell_type": "code",
   "execution_count": null,
   "metadata": {},
   "outputs": [],
   "source": [
    "def plot_job_sat(df, title):\n",
    "    \"\"\"\n",
    "    INPUT:\n",
    "        df - the pandas dataframe you want to plot\n",
    "        title - the title string of your plot\n",
    "    OUTPUT:\n",
    "        None\n",
    "    \"\"\"\n",
    "    plt.figure(figsize=(10, 6))\n",
    "    \n",
    "    ax1 = df['count'].plot(kind='bar')\n",
    "    ax1.set_ylabel('Language Proportion')\n",
    "    plt.box(False)\n",
    "\n",
    "    ax2 = df['job_sat_mean'].plot(kind='line', secondary_y=True, rot=90)\n",
    "    ax2.set_ylabel('Job Satisfaction')\n",
    "    plt.box(False)\n",
    "\n",
    "    for ax in [ax1, ax2]:\n",
    "        ax.tick_params(left=False, right=False, bottom=False)\n",
    "        ax.set_xlabel('')\n",
    "        ax.set_ylim(0,1)\n",
    "\n",
    "    plt.grid(True, axis='y')\n",
    "    plt.title(title)\n",
    "    plt.show();"
   ]
  },
  {
   "cell_type": "code",
   "execution_count": null,
   "metadata": {},
   "outputs": [],
   "source": [
    "# plot the mean of job satisfaction with the proportion of each language\n",
    "for year in job_sat_col_dict.keys():\n",
    "    plot_job_sat(job_sat[year], f'Languages and Job Satisfaction {year}')"
   ]
  },
  {
   "cell_type": "code",
   "execution_count": null,
   "metadata": {},
   "outputs": [],
   "source": [
    "# create a dataframe of job satisfaction for each common language in all years\n",
    "job_sat_all = pd.DataFrame(index=common_langs)\n",
    "for year in job_sat_col_dict.keys():\n",
    "    job_sat_all = job_sat_all.merge(job_sat[year][['job_sat_mean']], left_index=True, right_index=True, how='inner')\n",
    "job_sat_all.columns = job_sat_col_dict.keys()\n",
    "job_sat_all.transpose()"
   ]
  },
  {
   "cell_type": "code",
   "execution_count": null,
   "metadata": {},
   "outputs": [],
   "source": [
    "# plot job satisfaction for each common language in all years\n",
    "df_plot = job_sat_all.sort_values(by='2017', ascending=False)\n",
    "ax = df_plot.plot(\n",
    "        figsize=(10,6),\n",
    "        kind='bar', \n",
    "        legend=True,\n",
    "        ylim=(0.3, 0.8),\n",
    "    )\n",
    "ax.set_ylabel('Job Satisfaction')\n",
    "plt.grid(True, axis='y')\n",
    "plt.title('Languages and Job Satisfaction 2017')\n",
    "plt.tick_params(left=False, bottom=False)\n",
    "plt.box(False)\n",
    "plt.show();"
   ]
  },
  {
   "cell_type": "markdown",
   "metadata": {},
   "source": [
    "# Solution 3:  Base programming language to start professional career?\n",
    "Data Understanding\n",
    "With 2017, there are two columns related to years of coding. We need to fill missing values in one column with the other column at first."
   ]
  },
  {
   "cell_type": "code",
   "execution_count": null,
   "metadata": {},
   "outputs": [],
   "source": [
    "# fill missing values with a column\n",
    "data['2017']['YearsCodedJob'].fillna(data['2017']['YearsCodedJobPast'], inplace=True)"
   ]
  },
  {
   "cell_type": "code",
   "execution_count": null,
   "metadata": {},
   "outputs": [],
   "source": [
    "# columns indicating years of code\n",
    "yr_code_col_dict = {\n",
    "    '2017': 'YearsCodedJob',\n",
    "}"
   ]
  },
  {
   "cell_type": "code",
   "execution_count": null,
   "metadata": {},
   "outputs": [],
   "source": [
    "# check the proportion of missing values in these columns\n",
    "for year, col in yr_code_col_dict.items():\n",
    "    print(year, data[year][col].isnull().mean())"
   ]
  },
  {
   "cell_type": "code",
   "execution_count": null,
   "metadata": {},
   "outputs": [],
   "source": [
    "# check the proportion of each value in these columns\n",
    "for year, col in yr_code_col_dict.items():\n",
    "    plot_value_counts(col, data[year], f'Years of Code {year}')"
   ]
  },
  {
   "cell_type": "markdown",
   "metadata": {},
   "source": [
    "Prepare Data\n",
    "Because each survey has different levels in these columns, we have to convert those levels into the same rough scale before comparison."
   ]
  },
  {
   "cell_type": "code",
   "execution_count": null,
   "metadata": {},
   "outputs": [],
   "source": [
    "# create a dict for re-encoding\n",
    "yr_code_enc_dict = {\n",
    "    '2017': {},    \n",
    "}\n",
    "\n",
    "possible_yr_code_values = [\n",
    "    '0-2 years',\n",
    "    '3-5 years',\n",
    "    '6-8 years',\n",
    "    '9-11 years',\n",
    "    '12-14 years', \n",
    "    '15-17 years', \n",
    "    '18-20 years', \n",
    "    '>20 years',\n",
    "]\n",
    "\n",
    "# year 2017\n",
    "# 0-2 years\n",
    "yr_code_enc_dict['2017'].update({k:'0-2 years' for k in ['Less than a year', '1 to 2 years']})\n",
    "# 3-5 ~ 18-20 years\n",
    "for i in range(3, 20, 3):\n",
    "    lst = [f'{j} to {j+1} years' for j in range(i-1, i+2)]\n",
    "    yr_code_enc_dict['2017'].update({k:f'{i}-{i+2} years' for k in lst})\n",
    "# >20 years\n",
    "yr_code_enc_dict['2017'].update({'20 or more years':'>20 years'}) "
   ]
  },
  {
   "cell_type": "code",
   "execution_count": null,
   "metadata": {},
   "outputs": [],
   "source": [
    "def total_count_yr_code(df, look_for):\n",
    "    \"\"\"\n",
    "    INPUT:\n",
    "        df - the pandas dataframe you want to search\n",
    "        look_for - a list of strings you want to search for in each row of df['language']\n",
    "    OUTPUT:\n",
    "        new_df - a dataframe of each look_for with the proportion\n",
    "    \"\"\"\n",
    "    new_df = pd.Series(0, index=pd.MultiIndex.from_product(\n",
    "            [look_for, possible_yr_code_values],names=('language', 'years_of_code')))    \n",
    "    mix_langs = df.index.levels[0]\n",
    "    for idx in range(len(mix_langs)):\n",
    "        mix_langs_lst = extract_languages(mix_langs[idx])\n",
    "        for lang in look_for:\n",
    "            if lang in mix_langs_lst:\n",
    "                new_df[lang] = new_df[lang].add(df.loc[mix_langs[idx]]['count'], fill_value=0)\n",
    "    return new_df"
   ]
  },
  {
   "cell_type": "code",
   "execution_count": null,
   "metadata": {},
   "outputs": [],
   "source": [
    "def clean_yr_code(df, lang_col, possible_langs_, cod_col, cod_enc_dict):\n",
    "    \"\"\"\n",
    "    INPUT: \n",
    "        df - a dataframe holding the years of coding column\n",
    "        lang_col - the column name with languages strings\n",
    "        possible_langs - a list of languages you want to search for in each row of df[lang_col]\n",
    "        cod_col - the column name with years of coding values\n",
    "        cod_enc_dict - the mapping dictionary for re-encoding\n",
    "    OUTPUT:\n",
    "        new_df - a dataframe for each possible_langs of years of coding\n",
    "    \"\"\"\n",
    "    new_df = df[[lang_col, cod_col]].copy()\n",
    "    \n",
    "    # re-encode\n",
    "    new_df[cod_col].replace(cod_enc_dict, inplace=True)\n",
    "    \n",
    "    # count\n",
    "    new_df = new_df.groupby([lang_col, cod_col]).size().reset_index()\n",
    "    new_df.columns = ['language', 'years_of_code', 'count']\n",
    "    new_df.set_index(['language', 'years_of_code'], inplace=True)\n",
    "    new_df = total_count_yr_code(new_df, possible_langs_)\n",
    "    return new_df"
   ]
  },
  {
   "cell_type": "code",
   "execution_count": null,
   "metadata": {},
   "outputs": [],
   "source": [
    "# clean up years of code columns\n",
    "yr_code = {}\n",
    "\n",
    "for year in yr_code_col_dict.keys():\n",
    "    \n",
    "    lang_col = worked_langs_col_dict[year]\n",
    "    possible_langs_ = all_langs[year]\n",
    "    \n",
    "    cod_col = yr_code_col_dict[year]\n",
    "    cod_enc_dict = yr_code_enc_dict[year]\n",
    "    \n",
    "    yr_code[year] = clean_yr_code(data[year], lang_col, possible_langs_, cod_col, cod_enc_dict)"
   ]
  },
  {
   "cell_type": "markdown",
   "metadata": {},
   "source": [
    "# Visualize the Results"
   ]
  },
  {
   "cell_type": "code",
   "execution_count": null,
   "metadata": {},
   "outputs": [],
   "source": [
    "def plot_yr_code(df, title, only_new_comer=False):\n",
    "    \"\"\"\n",
    "    INPUT:\n",
    "        df - the pandas dataframe you want to plot\n",
    "        title - the title string of your plot\n",
    "        only_new_comer - only plot 0-5 years data\n",
    "    OUTPUT:\n",
    "        None\n",
    "    \"\"\"\n",
    "    # use proportion    \n",
    "    df = df.div(df.sum(level=0), axis='index', level=0)\n",
    "    # reindex() is for sorting years of code labels\n",
    "    df = df.unstack(level=1).reindex(possible_yr_code_values, axis=1)\n",
    "    if only_new_comer:\n",
    "        df['0-5 years'] = df['0-2 years'] + df['3-5 years']\n",
    "        df = df[['0-5 years']].sort_values(by='0-5 years', ascending=False)\n",
    "        df['rank'] = np.arange(1, len(df)+1)\n",
    "        df[['0-5 years']].plot.bar(figsize=(10,8))\n",
    "        plt.yticks(np.arange(0.05, 0.6, 0.05))\n",
    "        plt.xlabel('')\n",
    "        plt.legend()\n",
    "    else:\n",
    "        df.plot.barh(figsize=(10,15), stacked=True, colormap=plt.cm.summer_r)\n",
    "        plt.legend(bbox_to_anchor=(1.05, 1))\n",
    "        plt.tick_params(labeltop=True, left=False, right=False, top=True, bottom=True)\n",
    "        plt.xlim(0,1)\n",
    "        plt.ylabel('')\n",
    "        plt.gca().invert_yaxis()\n",
    "    plt.title(title, pad=40)\n",
    "    plt.show();\n",
    "    return df"
   ]
  },
  {
   "cell_type": "code",
   "execution_count": null,
   "metadata": {},
   "outputs": [],
   "source": [
    "# plot the proportion of years of code of each language in each year\n",
    "for year in yr_code_col_dict.keys():\n",
    "    plot_yr_code(yr_code[year], f'Languages and Years of Code {year}')"
   ]
  },
  {
   "cell_type": "code",
   "execution_count": null,
   "metadata": {},
   "outputs": [],
   "source": [
    "# plot the proportion of new-comers of each language in each year\n",
    "# and get rankings of common languages in all years\n",
    "yr_code_ranks = pd.DataFrame(index=common_langs)\n",
    "\n",
    "for year in yr_code_col_dict.keys():\n",
    "    df = plot_yr_code(yr_code[year], f'Languages and Years of Code {year}', only_new_comer=True)\n",
    "    yr_code_ranks = yr_code_ranks.merge(df, left_index=True, right_index=True, how='inner').drop('0-5 years', axis=1)\n",
    "\n",
    "yr_code_ranks.columns = yr_code_col_dict.keys()"
   ]
  },
  {
   "cell_type": "code",
   "execution_count": null,
   "metadata": {},
   "outputs": [],
   "source": [
    "yr_code_ranks.transpose()"
   ]
  },
  {
   "cell_type": "code",
   "execution_count": null,
   "metadata": {},
   "outputs": [],
   "source": [
    "# plot rankings of new-comers for each common language in all years\n",
    "plot_rankings(yr_code_ranks, 37, 'Languages and New-comers 2017')"
   ]
  },
  {
   "cell_type": "code",
   "execution_count": null,
   "metadata": {},
   "outputs": [],
   "source": []
  },
  {
   "cell_type": "code",
   "execution_count": null,
   "metadata": {},
   "outputs": [],
   "source": []
  }
 ],
 "metadata": {
  "kernelspec": {
   "display_name": "Python 3",
   "language": "python",
   "name": "python3"
  },
  "language_info": {
   "codemirror_mode": {
    "name": "ipython",
    "version": 3
   },
   "file_extension": ".py",
   "mimetype": "text/x-python",
   "name": "python",
   "nbconvert_exporter": "python",
   "pygments_lexer": "ipython3",
   "version": "3.7.5"
  }
 },
 "nbformat": 4,
 "nbformat_minor": 2
}
